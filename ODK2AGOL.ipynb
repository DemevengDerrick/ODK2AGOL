{
 "cells": [
  {
   "cell_type": "markdown",
   "id": "bade80c5",
   "metadata": {},
   "source": [
    "# ODK2AGOL"
   ]
  },
  {
   "attachments": {
    "Screenshot%202022-08-09%20185143.jpg": {
     "image/jpeg": "[encoded data removed]"
    }
   },
   "cell_type": "markdown",
   "id": "85278418",
   "metadata": {},
   "source": [
    "![Screenshot%202022-08-09%20185143.jpg](attachment:Screenshot%202022-08-09%20185143.jpg)"
   ]
  },
  {
   "cell_type": "markdown",
   "id": "4395491c",
   "metadata": {},
   "source": [
    "### BACKGROUND"
   ]
  },
  {
   "cell_type": "markdown",
   "id": "0b52fb4b",
   "metadata": {},
   "source": [
    "ODK (Open Data Kit) is an open-source solution for offline mobile data collection based on XLS-coded forms. Once an ODK form is coded and uploaded to the ODK, ONA, or KOBO servers (All built on ODK technology), it can be used on mobile phones through applications such as Kobo Collect or ODK Collect for offline and/or online data collection (ODK - Collect Data Anywhere, n.d.). All the data collected is centralized in a database and can be accessed in various ways (APIs, spreadsheets etc) for further analysis.\n",
    "\n",
    "While BI tools such as Power BI or Tableau can connect to ODK server through its available API to produce analysis and dashboards, these BI solutions do not offer spatial analysis capabilities offered by ArcGIS Online. Unfortunately, ArcGIS Online does not offer the possibility to connect to an external API directly from its user interface, and the walkaround until now was to do a manual process through downloading data, cleaning, and using ArcGIS to transform and publish to ArcGIS Online. But this is not a sustainable solution, especially for real-time streaming data."
   ]
  },
  {
   "cell_type": "markdown",
   "id": "79ab47ff",
   "metadata": {},
   "source": [
    "### PROPOSED SOLUTION"
   ]
  },
  {
   "cell_type": "markdown",
   "id": "f7e9285a",
   "metadata": {},
   "source": [
    "Even though ArcGIS Online does not offer direct connections to APIs through its user interface, it offers a programming API that can be used to build scripts when needed. In this project, we want to leverage on the ArcGIS python API and Jupyter notebook to build a solution that will connect to ODK server, pull data, transform, and push to ArcGIS Online. \n",
    "\n",
    "The packages that will be used to build this script will be the request for HTTP request, Pandas for data manipulation and cleaning and transformation, arcgis API for connecting and pushing data to ArcGIS Online."
   ]
  },
  {
   "cell_type": "markdown",
   "id": "c286ae51",
   "metadata": {},
   "source": [
    "1. Importing libraries"
   ]
  },
  {
   "cell_type": "code",
   "execution_count": null,
   "id": "fd08f0ea",
   "metadata": {
    "scrolled": false
   },
   "outputs": [],
   "source": [
    "import requests as rq\n",
    "import json\n",
    "import os\n",
    "import pandas as pd\n",
    "from arcgis.features import GeoAccessor, GeoSeriesAccessor"
   ]
  },
  {
   "cell_type": "markdown",
   "id": "ad04a17b",
   "metadata": {},
   "source": [
    "2. HTTP request to the ODK server to retrieve data in the json format\n",
    "\n",
    "For security reasons, we will not connect directly to the ODK API to retrieve data for this exercise. We will rather just use a downloaded version of the json data to be processed."
   ]
  },
  {
   "cell_type": "code",
   "execution_count": null,
   "id": "8b8eef5c",
   "metadata": {},
   "outputs": [],
   "source": [
    "#url : \"https://[kpi-url]/assets/form_id/submissions/?format=json\"\n",
    "ES_data = rq.get(\"url\", auth = (\"user\", \"password\"))\n",
    "#ES_data.status_code # cheking for the status of the response\n",
    "ES_data"
   ]
  },
  {
   "cell_type": "markdown",
   "id": "3bdbf435",
   "metadata": {},
   "source": [
    "3. Tranform the data to a pandas dataframe"
   ]
  },
  {
   "cell_type": "code",
   "execution_count": null,
   "id": "fcdfc17a",
   "metadata": {},
   "outputs": [],
   "source": [
    "# This code is used when we connect to the ODK server through the API\n",
    "\n",
    "data = ES_data.json() #change to json structure\n",
    "df = pd.DataFrame(data) #change to pandas dataframe\n",
    "df # display the data in form of a table"
   ]
  },
  {
   "cell_type": "code",
   "execution_count": null,
   "id": "b157f4a3",
   "metadata": {
    "scrolled": true
   },
   "outputs": [],
   "source": [
    "df.info() #Check information on the table fields"
   ]
  },
  {
   "cell_type": "code",
   "execution_count": null,
   "id": "6d3813cb",
   "metadata": {},
   "outputs": [],
   "source": [
    "df[\"group_vr07r89/Coordonn_es_GPS_du_point\"]"
   ]
  },
  {
   "cell_type": "markdown",
   "id": "6cf16b0c",
   "metadata": {},
   "source": [
    "4. Split the geolocation column into Longitude and Latitude"
   ]
  },
  {
   "cell_type": "code",
   "execution_count": null,
   "id": "b3e0b355",
   "metadata": {},
   "outputs": [],
   "source": [
    "df[[\"Lon\",\"Lat\", \"Alt\", \"Precision\"]]=df[\"group_vr07r89/Coordonn_es_GPS_du_point\"].str.split(\" \", expand=True) #spliting the gps1 column containing the cordinates "
   ]
  },
  {
   "cell_type": "markdown",
   "id": "323323a8",
   "metadata": {},
   "source": [
    "5. Convert the pandas dataframe into the Esri spatial enabled dataframe"
   ]
  },
  {
   "cell_type": "code",
   "execution_count": null,
   "id": "a0c778b2",
   "metadata": {},
   "outputs": [],
   "source": [
    "sedf = pd.DataFrame.spatial.from_xy(df,\"Lat\", \"Lon\") # converting from pandas dataframe to SADF\n",
    "sedf = sedf.drop([\"_tags\",\"_notes\",\"_attachments\", \"_geolocation\", \"_validation_status\"], axis = 1)# drop out empty columns\n",
    "sedf"
   ]
  },
  {
   "cell_type": "code",
   "execution_count": null,
   "id": "311ab180",
   "metadata": {},
   "outputs": [],
   "source": [
    "sedf.spatial.geometry_type #check the geometry type"
   ]
  },
  {
   "cell_type": "code",
   "execution_count": null,
   "id": "30019997",
   "metadata": {},
   "outputs": [],
   "source": [
    "sedf.spatial.full_extent"
   ]
  },
  {
   "cell_type": "markdown",
   "id": "9bf42b70",
   "metadata": {},
   "source": [
    "6. Connect to ArcGIS online for data publication"
   ]
  },
  {
   "cell_type": "markdown",
   "id": "554e110a",
   "metadata": {},
   "source": [
    "    a. If you have direct access to your organization arcgis online without any restrictions, below can be used"
   ]
  },
  {
   "cell_type": "code",
   "execution_count": null,
   "id": "c0d8c687",
   "metadata": {},
   "outputs": [],
   "source": [
    "#https://org.maps.arcgis.com\n",
    "#try:\n",
    "#    arcpy.SignInToPortal(arcpy.GetActivePortalURL(), <user_name>, <password>)\n",
    "#    print(\"Connected succesfully\")\n",
    "#except:\n",
    "#    print(\"connection failed\")"
   ]
  },
  {
   "cell_type": "markdown",
   "id": "b8a02ea8",
   "metadata": {},
   "source": [
    "    b. In case \"a\" fails, try this"
   ]
  },
  {
   "cell_type": "code",
   "execution_count": null,
   "id": "d3395361",
   "metadata": {},
   "outputs": [],
   "source": [
    "import sys\n",
    "os.environ[\"PATH\"] = r\"{};{}\".format(os.environ[\"PATH\"], r\"C:\\Program Files\\ArcGIS\\Pro\\bin\") # path has to be updated if you have installed Pro in a different location\n",
    "sys.path.append(r\"C:\\Program Files\\ArcGIS\\Pro\\Resources\\ArcPy\")                              # path has to be updated if you have installed Pro in a different location\n",
    "\n",
    "import arcgis\n",
    "from arcgis.gis import GIS"
   ]
  },
  {
   "cell_type": "markdown",
   "id": "dc6de9a8",
   "metadata": {},
   "source": [
    "Create the GIS object to connect to ArcGIS Online content"
   ]
  },
  {
   "cell_type": "code",
   "execution_count": null,
   "id": "8521768d",
   "metadata": {},
   "outputs": [],
   "source": [
    "gis = GIS('Home')\n",
    "gis"
   ]
  },
  {
   "cell_type": "markdown",
   "id": "ae0a0f1d",
   "metadata": {},
   "source": [
    "7. Check the existense of the feature layer and delete it"
   ]
  },
  {
   "cell_type": "code",
   "execution_count": null,
   "id": "d16d8220",
   "metadata": {},
   "outputs": [],
   "source": [
    "# search for content in your gis with a query built from tilte, owner and item type\n",
    "def searchAGOL(title, owner, itemType):\n",
    "    return gis.content.search(query='title:'+title+' owner:'+owner, item_type=itemType)\n",
    "\n",
    "# test whether items exist on AGOL for given title, owner, and item type and if so, delete them from AGOL\n",
    "def deleteIfExistsOnAGOL(title, owner, itemType):\n",
    "    result = searchAGOL(title, owner, itemType)   # search item\n",
    "    print('Found items for title='+title+', owner='+owner+', itemType='+itemType+':')\n",
    "    print(result)\n",
    "    for item in result:                           # delete items found\n",
    "        item.delete()\n",
    "        print('Item ' + item.title + ' has been deleted.')\n",
    "\n",
    "usernameAGOL = \"Agol_UserName\"\n",
    "# delete existing acaule observation and prediction shapefiles and feature layers on AGOL\n",
    "deleteIfExistsOnAGOL('douala', usernameAGOL, 'Geodatabase')\n",
    "deleteIfExistsOnAGOL('douala', usernameAGOL, 'Feature Service')"
   ]
  },
  {
   "cell_type": "markdown",
   "id": "72f17d4b",
   "metadata": {},
   "source": [
    "8. convert the SEDF to a hostes featurelayer"
   ]
  },
  {
   "cell_type": "code",
   "execution_count": null,
   "id": "cc0d9ca8",
   "metadata": {},
   "outputs": [],
   "source": [
    "featureLayer = sedf.spatial.to_featurelayer(title='douala')\n",
    "#featureLayer = sedf.spatial.to_featureclass(r\"D:\\PSU\\Advance python programming\\test4.shp\", overwrite=True) #save in a local file\n",
    "#featureLayer = gis.content.import_data(sedf) # Another online import option"
   ]
  },
  {
   "cell_type": "code",
   "execution_count": null,
   "id": "b611d14b",
   "metadata": {},
   "outputs": [],
   "source": [
    "featureLayer"
   ]
  },
  {
   "cell_type": "markdown",
   "id": "cbeb0f6e",
   "metadata": {},
   "source": [
    "9. Visualization of the final result"
   ]
  },
  {
   "cell_type": "code",
   "execution_count": null,
   "id": "33403496",
   "metadata": {},
   "outputs": [],
   "source": [
    "mapView = gis.map(\"Douala\")\n",
    "mapView.basemap = \"streets\"\n",
    "mapView.add_layer(featureLayer)\n",
    "mapView"
   ]
  },
  {
   "cell_type": "markdown",
   "id": "63ce320b",
   "metadata": {},
   "source": [
    "# Conclusion"
   ]
  },
  {
   "cell_type": "markdown",
   "id": "d12105bc",
   "metadata": {},
   "source": [
    "This notebook gives the possibility to the user to connect to a REST API, pull data in json format, convert the data into pandas dataframe, do some data vaidation, transforms the pandas dataframe into the ESRI spatially enabled dataframe and the publishes the data as a feature layer that can then be used for mapping and visualizations."
   ]
  }
 ],
 "metadata": {
  "kernelspec": {
   "display_name": "Python 3",
   "language": "python",
   "name": "python3"
  },
  "language_info": {
   "codemirror_mode": {
    "name": "ipython",
    "version": 3
   },
   "file_extension": ".py",
   "mimetype": "text/x-python",
   "name": "python",
   "nbconvert_exporter": "python",
   "pygments_lexer": "ipython3",
   "version": "3.7.11"
  }
 },
 "nbformat": 4,
 "nbformat_minor": 5
}
